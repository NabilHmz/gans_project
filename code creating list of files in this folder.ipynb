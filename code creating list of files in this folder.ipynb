{
 "cells": [
  {
   "cell_type": "code",
   "execution_count": 1,
   "metadata": {},
   "outputs": [
    {
     "name": "stdout",
     "output_type": "stream",
     "text": [
      "['.gitignore', 'code creating list of files in this folder.ipynb', 'code_fetching_arrivals_and_weather_data.ipynb', 'collecting-arrival-flights-data-from-different-airports-in-the-same-city-Paris.ipynb', 'collecting-weather-data-for-one-city-Berlin.ipynb', 'creating-gans-db-loading-satic-tables.sql', 'creating_arrivals_and_weather_tables.ipynb', 'loading_static_data.ipynb', 'README.md', 'the_lambda_fuction_used_in_aws.ipynb']\n"
     ]
    }
   ],
   "source": [
    "import os\n",
    "\n",
    "# folder path\n",
    "dir_path = r'C:\\Users\\nabil\\Desktop\\Data Science Bootcamp\\Section 5 Data Engineering Pipelines on the Cloud\\Gans_project'\n",
    "\n",
    "# list to store files\n",
    "res = []\n",
    "\n",
    "# Iterate directory\n",
    "for path in os.listdir(dir_path):\n",
    "    # check if current path is a file\n",
    "    if os.path.isfile(os.path.join(dir_path, path)):\n",
    "        res.append(path)\n",
    "print(res)"
   ]
  },
  {
   "cell_type": "code",
   "execution_count": 3,
   "metadata": {},
   "outputs": [
    {
     "name": "stdout",
     "output_type": "stream",
     "text": [
      ".gitignore\n",
      ".ipynb_checkpoints\n",
      "code creating list of files in this folder.ipynb\n",
      "code_fetching_arrivals_and_weather_data.ipynb\n",
      "collecting-arrival-flights-data-from-different-airports-in-the-same-city-Paris.ipynb\n",
      "collecting-weather-data-for-one-city-Berlin.ipynb\n",
      "creating-gans-db-loading-satic-tables.sql\n",
      "creating_arrivals_and_weather_tables.ipynb\n",
      "loading_static_data.ipynb\n",
      "README.md\n",
      "the_lambda_fuction_used_in_aws.ipynb\n"
     ]
    }
   ],
   "source": [
    "import os\n",
    "\n",
    "# folder path\n",
    "dir_path = r'C:\\Users\\nabil\\Desktop\\Data Science Bootcamp\\Section 5 Data Engineering Pipelines on the Cloud\\Gans_project'\n",
    "\n",
    "# Iterate directory\n",
    "for path in os.listdir(dir_path):\n",
    "    print(path)"
   ]
  },
  {
   "cell_type": "code",
   "execution_count": null,
   "metadata": {},
   "outputs": [],
   "source": []
  }
 ],
 "metadata": {
  "kernelspec": {
   "display_name": "Python 3",
   "language": "python",
   "name": "python3"
  },
  "language_info": {
   "codemirror_mode": {
    "name": "ipython",
    "version": 3
   },
   "file_extension": ".py",
   "mimetype": "text/x-python",
   "name": "python",
   "nbconvert_exporter": "python",
   "pygments_lexer": "ipython3",
   "version": "3.8.5"
  },
  "vscode": {
   "interpreter": {
    "hash": "af504cf6cba3b92d821c105f776e34c926d14385a463426a3fc43a1b37127178"
   }
  }
 },
 "nbformat": 4,
 "nbformat_minor": 2
}
