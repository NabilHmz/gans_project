{
 "cells": [
  {
   "cell_type": "code",
   "execution_count": 1,
   "metadata": {},
   "outputs": [],
   "source": [
    "import pandas as pd\n",
    "import numpy as np\n",
    "import requests\n",
    "from datetime import datetime, timedelta\n",
    "import pymysql\n",
    "\n",
    "# import api keys\n",
    "from api_keys import *"
   ]
  },
  {
   "cell_type": "code",
   "execution_count": 3,
   "metadata": {},
   "outputs": [],
   "source": [
    "schema=\"gans\"\n",
    "host=\"wbs-project3-db.cwx6am7qyc91.eu-central-1.rds.amazonaws.com\"\n",
    "user=\"admin\"\n",
    "password=\"\"\n",
    "port=3306\n",
    "con = f'mysql+pymysql://{user}:{password}@{host}:{port}/{schema}'"
   ]
  },
  {
   "cell_type": "code",
   "execution_count": 4,
   "metadata": {},
   "outputs": [],
   "source": [
    "cities = ['Berlin','Paris','Amsterdam','Barcelona','Rome','Lisbon','Prague','Vienna','Madrid']"
   ]
  },
  {
   "cell_type": "markdown",
   "metadata": {},
   "source": [
    "# Fetching airports data from Gans db in AWS"
   ]
  },
  {
   "cell_type": "code",
   "execution_count": 5,
   "metadata": {},
   "outputs": [],
   "source": [
    "airports = pd.read_sql('select * from airports', con)"
   ]
  },
  {
   "cell_type": "markdown",
   "metadata": {},
   "source": [
    "# Calling arrival and weather data for the cities in our list"
   ]
  },
  {
   "cell_type": "code",
   "execution_count": 8,
   "metadata": {},
   "outputs": [],
   "source": [
    "def get_flight_info(flight_json):\n",
    "            # terminal\n",
    "            try: terminal = flight_json['arrival']['terminal']\n",
    "            except: terminal = None\n",
    "            # aircraft\n",
    "            try: aircraft = flight_json['aircraft']['model']\n",
    "            except: aircraft = None\n",
    "\n",
    "            return {\n",
    "                'dep_airport':flight_json['departure']['airport']['name'],\n",
    "                'sched_arr_loc_time':flight_json['arrival']['scheduledTimeLocal'],\n",
    "                'terminal':terminal,\n",
    "                'status':flight_json['status'],\n",
    "                'aircraft':aircraft,\n",
    "                'icao_code':airport_icoa\n",
    "            }\n",
    "\n",
    "for city in cities:\n",
    "    \n",
    "    globals()['%s_arrivals' % city] = pd.DataFrame()\n",
    "\n",
    "    for i in range(len(airports[airports['municipality'] == city ]['icao_code'].values)):\n",
    "\n",
    "        airport_icoa = airports[airports['municipality'] == city ]['icao_code'].values[i]\n",
    "        to_local_time = datetime.now().strftime('%Y-%m-%dT%H:00')\n",
    "        from_local_time = (datetime.now() + timedelta(hours=9)).strftime('%Y-%m-%dT%H:00')\n",
    "        url = f\"https://aerodatabox.p.rapidapi.com/flights/airports/icao/{airport_icoa}/{to_local_time}/{from_local_time}\"\n",
    "\n",
    "        querystring = {\"withLeg\":\"true\",\"withCancelled\":\"true\",\"withCodeshared\":\"true\",\"withCargo\":\"true\",\"withPrivate\":\"false\",\"withLocation\":\"false\"}\n",
    "\n",
    "        headers = {\n",
    "            'x-rapidapi-host': \"aerodatabox.p.rapidapi.com\",\n",
    "            'x-rapidapi-key': flight_api_key\n",
    "            }\n",
    "\n",
    "        response = requests.request(\"GET\", url, headers=headers, params=querystring)\n",
    "\n",
    "        arrivals = response.json()['arrivals']\n",
    "        \n",
    "        arrivals = pd.DataFrame([get_flight_info(flight) for flight in arrivals])\n",
    "\n",
    "        globals()['%s_arrivals' % city] = globals()['%s_arrivals' % city].append(arrivals)\n",
    "\n",
    "\n",
    "    # Weather data\n",
    "\n",
    "    country = airports[airports['municipality'] == city ]['iso_country'].values[0]\n",
    "\n",
    "    response = requests.get(f'http://api.openweathermap.org/data/2.5/forecast/?q={city},{country}&appid={OWM_key}&units=metric&lang=en')\n",
    "\n",
    "    forecast_api = response.json()['list']\n",
    "\n",
    "    weather_info = []\n",
    "\n",
    "    for forecast_3h in forecast_api: \n",
    "        weather_hour = {}\n",
    "        # datetime utc\n",
    "        weather_hour['datetime'] = forecast_3h['dt_txt']\n",
    "        # temperature \n",
    "        weather_hour['temperature'] = forecast_3h['main']['temp']\n",
    "        # wind\n",
    "        weather_hour['wind'] = forecast_3h['wind']['speed']\n",
    "        # probability precipitation \n",
    "        try: weather_hour['prob_perc'] = float(forecast_3h['pop'])\n",
    "        except: weather_hour['prob_perc'] = 0\n",
    "        # rain\n",
    "        try: weather_hour['rain_qty'] = float(forecast_3h['rain']['3h'])\n",
    "        except: weather_hour['rain_qty'] = 0\n",
    "        # wind \n",
    "        try: weather_hour['snow'] = float(forecast_3h['snow']['3h'])\n",
    "        except: weather_hour['snow'] = 0\n",
    "        weather_hour['municipality_iso_country'] = city + ',' + country\n",
    "        weather_info.append(weather_hour)\n",
    "        \n",
    "    globals()['%s_weather' % city] = pd.DataFrame(weather_info)\n",
    "\n",
    "    (\n",
    "    globals()['%s_arrivals' % city]\n",
    "        .replace({np.nan},'unknown')\n",
    "        .assign(sched_arr_loc_time = lambda x: pd.to_datetime(x['sched_arr_loc_time']))\n",
    "        .to_sql(f'{city}_arrivals', if_exists='append', con=con, index=False)\n",
    "    )\n",
    "\n",
    "    globals()['%s_weather' % city].assign(datetime = lambda x: pd.to_datetime(x['datetime'])).to_sql(f'{city}_weather', if_exists='append', con=con, index=False)\n",
    "\n"
   ]
  }
 ],
 "metadata": {
  "kernelspec": {
   "display_name": "Python 3",
   "language": "python",
   "name": "python3"
  },
  "language_info": {
   "codemirror_mode": {
    "name": "ipython",
    "version": 3
   },
   "file_extension": ".py",
   "mimetype": "text/x-python",
   "name": "python",
   "nbconvert_exporter": "python",
   "pygments_lexer": "ipython3",
   "version": "3.8.5"
  },
  "vscode": {
   "interpreter": {
    "hash": "af504cf6cba3b92d821c105f776e34c926d14385a463426a3fc43a1b37127178"
   }
  }
 },
 "nbformat": 4,
 "nbformat_minor": 2
}
