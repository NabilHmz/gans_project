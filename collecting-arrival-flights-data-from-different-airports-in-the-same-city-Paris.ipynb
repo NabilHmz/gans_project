{
 "cells": [
  {
   "cell_type": "code",
   "execution_count": 1,
   "metadata": {},
   "outputs": [],
   "source": [
    "import pandas as pd\n",
    "import requests\n",
    "from datetime import datetime, timedelta\n",
    "\n",
    "# import api keys\n",
    "from api_keys import *"
   ]
  },
  {
   "cell_type": "code",
   "execution_count": null,
   "metadata": {},
   "outputs": [],
   "source": [
    "import requests\n",
    "\n",
    "url = \"https://aerodatabox.p.rapidapi.com/flights/airports/icao/{airport_ica}/{from_local_time}/{to_local_time}\"\n",
    "\n",
    "querystring = {\"withLeg\":\"true\",\"withCancelled\":\"true\",\"withCodeshared\":\"true\",\"withCargo\":\"true\",\"withPrivate\":\"true\",\"withLocation\":\"false\"}\n",
    "\n",
    "headers = {\n",
    "    \"X-RapidAPI-Key\": flight_api_key,\n",
    "    \"X-RapidAPI-Host\": \"aerodatabox.p.rapidapi.com\"\n",
    "}\n",
    "\n",
    "response = requests.request(\"GET\", url, headers=headers, params=querystring)\n",
    "print(response.text)"
   ]
  },
  {
   "cell_type": "code",
   "execution_count": null,
   "metadata": {},
   "outputs": [],
   "source": [
    "city = 'Paris'\n",
    "airport_icaos = ['LFPG', 'LFPO']\n",
    "Paris_arrivals = pd.DataFrame()\n",
    "\n",
    "for i in range(len(Paris_airports_icaos)):\n",
    "\n",
    "        airport_icoa = Paris_airports_icaos[i]\n",
    "        to_local_time = datetime.now().strftime('%Y-%m-%dT%H:00')\n",
    "        from_local_time = (datetime.now() + timedelta(hours=9)).strftime('%Y-%m-%dT%H:00')\n",
    "        url = f\"https://aerodatabox.p.rapidapi.com/flights/airports/icao/{airport_icoa}/{to_local_time}/{from_local_time}\"\n",
    "\n",
    "        querystring = {\"withLeg\":\"true\",\"withCancelled\":\"true\",\"withCodeshared\":\"true\",\"withCargo\":\"true\",\"withPrivate\":\"false\",\"withLocation\":\"false\"}\n",
    "\n",
    "        headers = {\n",
    "            'x-rapidapi-host': \"aerodatabox.p.rapidapi.com\",\n",
    "            'x-rapidapi-key': flight_api_key\n",
    "            }\n",
    "\n",
    "        response = requests.request(\"GET\", url, headers=headers, params=querystring)\n",
    "\n",
    "        arrivals = response.json()['arrivals']\n",
    "        \n",
    "        def get_flight_info(flight_json):\n",
    "            # terminal\n",
    "            try: terminal = flight_json['arrival']['terminal']\n",
    "            except: terminal = None\n",
    "            # aircraft\n",
    "            try: aircraft = flight_json['aircraft']['model']\n",
    "            except: aircraft = None\n",
    "\n",
    "            return {\n",
    "                'dep_airport':flight_json['departure']['airport']['name'],\n",
    "                'sched_arr_loc_time':flight_json['arrival']['scheduledTimeLocal'],\n",
    "                'terminal':terminal,\n",
    "                'status':flight_json['status'],\n",
    "                'aircraft':aircraft,\n",
    "                'icao_code':airport_icoa\n",
    "        \n",
    "        arrivals = pd.DataFrame([get_flight_info(flight) for flight in arrivals])\n",
    "\n",
    "        Paris_arrivals = Paris_arrivals.append(arrivals)"
   ]
  }
 ],
 "metadata": {
  "kernelspec": {
   "display_name": "Python 3",
   "language": "python",
   "name": "python3"
  },
  "language_info": {
   "codemirror_mode": {
    "name": "ipython",
    "version": 3
   },
   "file_extension": ".py",
   "mimetype": "text/x-python",
   "name": "python",
   "nbconvert_exporter": "python",
   "pygments_lexer": "ipython3",
   "version": "3.8.5"
  }
 },
 "nbformat": 4,
 "nbformat_minor": 4
}
