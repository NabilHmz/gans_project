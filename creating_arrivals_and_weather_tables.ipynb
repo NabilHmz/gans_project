{
 "cells": [
  {
   "cell_type": "code",
   "execution_count": 1,
   "metadata": {},
   "outputs": [],
   "source": [
    "import mysql.connector\n",
    " \n",
    "# define connection details\n",
    "cnx = mysql.connector.connect(\n",
    "    user='admin',\n",
    "    password='', #type your root password here\n",
    "    host='wbs-project3-db.cwx6am7qyc91.eu-central-1.rds.amazonaws.com', # to connect to your local instance\n",
    "    database='gans' #type the name of the database you want to use here\n",
    ")\n",
    " \n",
    "# connect to database\n",
    "cursor = cnx.cursor()"
   ]
  },
  {
   "cell_type": "code",
   "execution_count": 2,
   "metadata": {},
   "outputs": [],
   "source": [
    "cities = ['Berlin','Paris','Amsterdam','Barcelona','Rome','Lisbon','Prague','Vienna','Madrid']"
   ]
  },
  {
   "cell_type": "code",
   "execution_count": 4,
   "metadata": {},
   "outputs": [],
   "source": [
    "for city in cities:\n",
    "\n",
    "    query = (\"USE gans\")\n",
    "    cursor.execute(query)\n",
    "\n",
    "    query = (f\"\"\"\n",
    "    create table if not exists {city}_arrivals(\n",
    "\tarrivals_id int auto_increment, \n",
    "    dep_airport text, \n",
    "    sched_arr_loc_time datetime, \n",
    "    terminal text, \n",
    "    status text, \n",
    "\taircraft text, \n",
    "    icao_code varchar(4),\n",
    "    primary key (arrivals_id));\"\"\")\n",
    "\n",
    "    cursor.execute(query)"
   ]
  },
  {
   "cell_type": "code",
   "execution_count": 5,
   "metadata": {},
   "outputs": [],
   "source": [
    "for city in cities:\n",
    "\n",
    "    query = (\"USE gans\")\n",
    "    cursor.execute(query)\n",
    "\n",
    "    query = (f\"\"\"\n",
    "    create table if not exists {city}_weather (\n",
    "\tweather_id int auto_increment, \n",
    "    datetime datetime, \n",
    "    temperature float, \n",
    "    wind float, \n",
    "    prob_perc float, \n",
    "    rain_qty float, \n",
    "    snow integer, \n",
    "    municipality_iso_country varchar(200),\n",
    "    primary key(weather_id) );\"\"\")\n",
    "\n",
    "    cursor.execute(query)\n"
   ]
  },
  {
   "cell_type": "code",
   "execution_count": null,
   "metadata": {},
   "outputs": [],
   "source": []
  }
 ],
 "metadata": {
  "kernelspec": {
   "display_name": "Python 3",
   "language": "python",
   "name": "python3"
  },
  "language_info": {
   "codemirror_mode": {
    "name": "ipython",
    "version": 3
   },
   "file_extension": ".py",
   "mimetype": "text/x-python",
   "name": "python",
   "nbconvert_exporter": "python",
   "pygments_lexer": "ipython3",
   "version": "3.8.5"
  },
  "vscode": {
   "interpreter": {
    "hash": "af504cf6cba3b92d821c105f776e34c926d14385a463426a3fc43a1b37127178"
   }
  }
 },
 "nbformat": 4,
 "nbformat_minor": 2
}
